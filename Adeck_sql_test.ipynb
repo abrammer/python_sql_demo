{
 "cells": [
  {
   "cell_type": "markdown",
   "metadata": {},
   "source": [
    "### SQL database Examples ###\n",
    "\n",
    "We'll use some basic python to learn about SQL queries, creation and general hygeine.\n",
    "\n",
    "First up load basic python libraries we'll use to play with SQL"
   ]
  },
  {
   "cell_type": "code",
   "execution_count": null,
   "metadata": {
    "collapsed": false
   },
   "outputs": [],
   "source": [
    "import sqlite3 as sql\n",
    "import matplotlib.pyplot as plt\n",
    "from mpl_toolkits.basemap import Basemap\n",
    "import numpy as np\n",
    "%matplotlib inline\n",
    "from datetime import datetime\n",
    "import pandas as pd"
   ]
  },
  {
   "cell_type": "code",
   "execution_count": null,
   "metadata": {
    "collapsed": true
   },
   "outputs": [],
   "source": [
    "def plot_points(lat, lon):\n",
    "    width = 15\n",
    "    height = 15\n",
    "    fig = plt.figure(figsize=(width, height));\n",
    "    themap = Basemap(projection='gall',\n",
    "              llcrnrlon = min(lon)-10,              # lower-left corner longitude\n",
    "              llcrnrlat = min(lat)-5,               # lower-left corner latitude\n",
    "              urcrnrlon = max(lon)+10,               # upper-right corner longitude\n",
    "              urcrnrlat = max(lat)+5,               # upper-right corner latitude\n",
    "              resolution = 'l',\n",
    "              area_thresh = 500.0,\n",
    "              );\n",
    "    themap.drawcoastlines();\n",
    "    themap.drawcountries();\n",
    "    themap.fillcontinents(color = 'gainsboro',lake_color='lightskyblue');\n",
    "    themap.drawmapboundary(fill_color='steelblue');\n",
    "\n",
    "    x, y = themap(lon,lat);\n",
    "\n",
    "    themap.plot(x, y, \n",
    "            'o',                    # marker shape\n",
    "            c='indigo',         # marker colour\n",
    "            markersize=8            # marker size\n",
    "            );                    \n",
    "    plt.show();"
   ]
  },
  {
   "cell_type": "markdown",
   "metadata": {},
   "source": [
    "Next we need to connect to the database file.  \n",
    "Then we make a cursor for some reason? Don't question it just remember to do it.   \n",
    "or go [here](http://stackoverflow.com/questions/6318126/why-do-you-need-to-create-a-cursor-when-querying-a-sqlite-database)"
   ]
  },
  {
   "cell_type": "code",
   "execution_count": null,
   "metadata": {
    "collapsed": false
   },
   "outputs": [],
   "source": [
    "conn = sql.connect('test')\n",
    "c    = conn.cursor()"
   ]
  },
  {
   "cell_type": "markdown",
   "metadata": {},
   "source": [
    "ok, so boring pre-amble over.   \n",
    "Lets see whats in the database.  \n",
    "We can execute queries pretty much like from the command line or sqlite3.  "
   ]
  },
  {
   "cell_type": "code",
   "execution_count": null,
   "metadata": {
    "collapsed": false
   },
   "outputs": [],
   "source": [
    "c.execute(\"CREATE TABLE Person(firstname text, familyname text, age integer);\");"
   ]
  },
  {
   "cell_type": "markdown",
   "metadata": {},
   "source": [
    "Simple way to create a table named Person with 3 columns in it\n",
    "This contains their name and age. To add people we can insert some or all the data"
   ]
  },
  {
   "cell_type": "code",
   "execution_count": null,
   "metadata": {
    "collapsed": false
   },
   "outputs": [],
   "source": [
    "# Most basic way to insert data\n",
    "c.execute(\"INSERT INTO Person VALUES('Alan','Brammer',27)\");\n",
    "# By specifying the column names we won't make a mistake though.\n",
    "c.execute(\"INSERT INTO Person(firstname, familyname, age) VALUES('Alan','Brammer',27)\");\n",
    "# The order of the column names also doesn't need to matter. \n",
    "c.execute(\"INSERT INTO Person(familyname,firstname, age) VALUES('Brammer','Alan',27)\");\n",
    "# We also don't have to include all the information. \n",
    "c.execute(\"INSERT INTO Person(familyname,firstname) VALUES('Brammer','Alan')\");\n",
    "\n",
    "\n",
    "data = c.execute(\"SELECT * FROM Person\");\n",
    "for datum in data:\n",
    "    print datum"
   ]
  },
  {
   "cell_type": "markdown",
   "metadata": {},
   "source": [
    "Because we inserted the same data multiple times we now have table of repeated and redundant info.\n",
    "We obviously don't want that so we can create a table to avoid this.   \n",
    "\n",
    "First lets drop this table and start again and make a better version."
   ]
  },
  {
   "cell_type": "code",
   "execution_count": null,
   "metadata": {
    "collapsed": false
   },
   "outputs": [],
   "source": [
    "c.execute(\"Drop TABLE Person\");\n",
    "c.execute(\"CREATE TABLE Person(firstname text, familyname text, age integer, PRIMARY KEY(firstname, familyname)) ;\");"
   ]
  },
  {
   "cell_type": "markdown",
   "metadata": {},
   "source": [
    "Now we have a \"Primary Key\" in the table.  This has to be unique throughout the whole table, but can be a combination of columns. "
   ]
  },
  {
   "cell_type": "code",
   "execution_count": null,
   "metadata": {
    "collapsed": false
   },
   "outputs": [],
   "source": [
    "c.execute(\"INSERT INTO Person(firstname, familyname, age) VALUES('Alan','Brammer',27)\")\n",
    "data = c.execute(\"SELECT * FROM Person\")\n",
    "for datum in data:\n",
    "    print datum"
   ]
  },
  {
   "cell_type": "markdown",
   "metadata": {},
   "source": [
    "If we run the above code twice we now get an error stating why.  This is good, but also we didn't get any output because of the error.  SQL can helpfully ignore these erorrs though."
   ]
  },
  {
   "cell_type": "code",
   "execution_count": null,
   "metadata": {
    "collapsed": false
   },
   "outputs": [],
   "source": [
    "c.execute(\"INSERT OR IGNORE INTO Person(firstname, familyname, age) VALUES('Alan','Brammer',28)\")\n",
    "data = c.execute(\"SELECT * FROM Person\")\n",
    "for datum in data:\n",
    "    print datum"
   ]
  },
  {
   "cell_type": "markdown",
   "metadata": {},
   "source": [
    "Here we tried to update the age but it was \"ignored\" because the primary key already exists.  \n",
    "We can replace instead of ignoring though.  More complicated methods also exist for this. "
   ]
  },
  {
   "cell_type": "code",
   "execution_count": null,
   "metadata": {
    "collapsed": false
   },
   "outputs": [],
   "source": [
    "c.execute(\"INSERT OR REPLACE INTO Person(firstname, familyname, age) VALUES('Alan','Brammer',28)\")\n",
    "c.execute(\"INSERT OR REPLACE INTO Person(firstname, familyname, age) VALUES('Brandon','Stark',9)\")\n",
    "data = c.execute(\"SELECT * FROM Person\")\n",
    "for datum in data:\n",
    "    print datum\n",
    "    "
   ]
  },
  {
   "cell_type": "markdown",
   "metadata": {},
   "source": [
    "Ok, So that was a very basic table lets drop it and look at some more complicating structures. \n",
    "We have a new database call adecks, so lets connect to that and put the cursor in it. "
   ]
  },
  {
   "cell_type": "code",
   "execution_count": null,
   "metadata": {
    "collapsed": false
   },
   "outputs": [],
   "source": [
    "c.execute(\"DROP TABLE IF EXISTS Person\");\n",
    "\n",
    "conn = sql.connect('adecks')\n",
    "c    = conn.cursor()"
   ]
  },
  {
   "cell_type": "code",
   "execution_count": null,
   "metadata": {
    "collapsed": false,
    "scrolled": true
   },
   "outputs": [],
   "source": [
    "pragma= c.execute(\"PRAGMA table_info(atl)\");\n",
    "for header in pragma.fetchall():\n",
    "    print header[:3]\n",
    "\n",
    "    \n",
    "db_length = c.execute(\"SELECT Count(*)  FROM atl\").fetchone()[0]\n",
    "print \"No of Lines in the table:\",db_length;\n"
   ]
  },
  {
   "cell_type": "markdown",
   "metadata": {},
   "source": [
    "You can think of this in a way like a massive excel spreadsheet (with 755k lines) and 8 columns.  \n",
    "Creating a database is pretty easy, you just need to plan ahead and think about it first. \n",
    "\n",
    "So to create this table, we use similar line as before but with more columns.  Our primary key will now encompass 4 columns as well. "
   ]
  },
  {
   "cell_type": "code",
   "execution_count": null,
   "metadata": {
    "collapsed": false
   },
   "outputs": [],
   "source": [
    "c.execute('CREATE TABLE IF NOT EXISTS atl_new(id TEXT, date DATETIME, tech TEXT, fhr INT, lat REAL, lon REAL, vmax INT, mslp INT, type TEXT, PRIMARY KEY(id,date,tech,fhr));')\n",
    "\n",
    "pragma= c.execute(\"PRAGMA table_info(atl_new)\");\n",
    "for header in pragma.fetchall():\n",
    "    print header[:3]\n",
    "\n",
    " "
   ]
  },
  {
   "cell_type": "markdown",
   "metadata": {},
   "source": [
    "We can now start querying a large database.  First lets see when and what the most recent data entry was. "
   ]
  },
  {
   "cell_type": "code",
   "execution_count": null,
   "metadata": {
    "collapsed": false
   },
   "outputs": [],
   "source": [
    "recent_time = c.execute('SELECT MAX(date) FROM atl').fetchone()[0]\n",
    "if recent_time is None:\n",
    "    recent_time = 0\n",
    "print recent_time\n"
   ]
  },
  {
   "cell_type": "code",
   "execution_count": null,
   "metadata": {
    "collapsed": false
   },
   "outputs": [],
   "source": [
    "data = c.execute('SELECT date, id, lat, lon, fhr, mslp,tech FROM atl WHERE date='+str(recent_time)).fetchall()\n",
    "\n",
    "idNo=[]; lat = []; lon = [];mslp=[];fhr=[]; tech=[];\n",
    "for datum in data:\n",
    "  idNo.append(datum[1])\n",
    "  lat.append(datum[2])\n",
    "  lon.append(datum[3])\n",
    "  fhr.append(datum[4])\n",
    "  mslp.append(datum[5])\n",
    "  tech.append(datum[6])\n",
    "  print datum[1],datum[6],datum[4], datum[2], datum[3]  \n"
   ]
  },
  {
   "cell_type": "code",
   "execution_count": null,
   "metadata": {
    "collapsed": false
   },
   "outputs": [],
   "source": [
    "plot_points(lat,lon)"
   ]
  },
  {
   "cell_type": "code",
   "execution_count": null,
   "metadata": {
    "collapsed": false
   },
   "outputs": [],
   "source": [
    "id_string='\"aal09\"';\n",
    "data = c.execute('SELECT date, id, lat, lon, fhr, mslp FROM atl WHERE id='+id_string+' AND date>=2016010100 AND tech=\"CARQ\" AND fhr=0').fetchall()\n",
    "\n",
    "lat = []; lon = [];mslp=[];\n",
    "for datum in data:\n",
    "  lat.append(datum[2])\n",
    "  lon.append(datum[3])\n",
    "  mslp.append(datum[5])\n"
   ]
  },
  {
   "cell_type": "code",
   "execution_count": null,
   "metadata": {
    "collapsed": false
   },
   "outputs": [],
   "source": [
    "for l in range(10):\n",
    "    print lon[l], lat[l]"
   ]
  },
  {
   "cell_type": "code",
   "execution_count": null,
   "metadata": {
    "collapsed": false,
    "scrolled": true
   },
   "outputs": [],
   "source": [
    "plot_points(lat,lon)"
   ]
  },
  {
   "cell_type": "code",
   "execution_count": null,
   "metadata": {
    "collapsed": false
   },
   "outputs": [],
   "source": [
    "data = c.execute('SELECT date, id, lat, lon, fhr, mslp FROM atl WHERE mslp=(SELECT MIN(mslp) from atl where mslp >850 AND id!=\"aal51\");').fetchall()\n",
    "\n",
    "idNo=[]; date=[];lat = []; lon = [];mslp=[];\n",
    "for datum in data:\n",
    "    lat.append(datum[2])\n",
    "    lon.append(datum[3])\n",
    "    mslp.append(datum[5])\n",
    "    date.append(datum[0])\n",
    "    idNo.append(datum[1])\n",
    "\n",
    "    \n",
    "   \n",
    "for d,i in zip(date,idNo):\n",
    "      data = c.execute('SELECT date, id, lat, lon, fhr, mslp FROM atl WHERE date>=2016010100 AND id=\"'+str(i)+'\" and tech like \"AP%\"').fetchall();\n",
    "      lat = []; lon = [];mslp=[];\n",
    "      print str(i)\n",
    "      for datum in data:\n",
    "        lat.append(datum[2])\n",
    "        lon.append(datum[3])\n",
    "        mslp.append(datum[5])\n",
    "      plot_points(lat,lon)\n"
   ]
  },
  {
   "cell_type": "code",
   "execution_count": null,
   "metadata": {
    "collapsed": true
   },
   "outputs": [],
   "source": []
  },
  {
   "cell_type": "code",
   "execution_count": null,
   "metadata": {
    "collapsed": true
   },
   "outputs": [],
   "source": []
  }
 ],
 "metadata": {
  "anaconda-cloud": {},
  "celltoolbar": "Raw Cell Format",
  "kernelspec": {
   "display_name": "Python 2",
   "language": "python",
   "name": "python2"
  },
  "language_info": {
   "codemirror_mode": {
    "name": "ipython",
    "version": 2
   },
   "file_extension": ".py",
   "mimetype": "text/x-python",
   "name": "python",
   "nbconvert_exporter": "python",
   "pygments_lexer": "ipython2",
   "version": "2.7.12"
  }
 },
 "nbformat": 4,
 "nbformat_minor": 1
}
